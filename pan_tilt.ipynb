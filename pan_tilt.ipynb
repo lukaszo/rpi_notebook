{
 "cells": [
  {
   "cell_type": "markdown",
   "metadata": {
    "collapsed": true
   },
   "source": [
    "# Pan/Tilt\n",
    "\n",
    "## Setting position"
   ]
  },
  {
   "cell_type": "code",
   "execution_count": 0,
   "metadata": {
    "collapsed": false
   },
   "outputs": [],
   "source": [
    "import time\n",
    "from gpiozero import PWMOutputDevice\n",
    "\n",
    "with PWMOutputDevice(20) as h, PWMOutputDevice(21) as v:\n",
    "    h.value = .11\n",
    "    v.value = .25\n",
    "    time.sleep(2)\n",
    "    \n",
    "    h.value = .2\n",
    "    v.value = .11\n",
    "    time.sleep(2)\n",
    "    \n",
    "    h.value = .14\n",
    "    v.value = 0.18\n",
    "    time.sleep(1)"
   ]
  },
  {
   "cell_type": "markdown",
   "metadata": {},
   "source": [
    "## Rotating"
   ]
  },
  {
   "cell_type": "code",
   "execution_count": 0,
   "metadata": {
    "collapsed": false
   },
   "outputs": [],
   "source": [
    "import time\n",
    "from gpiozero import PWMOutputDevice\n",
    "\n",
    "with PWMOutputDevice(20) as h, PWMOutputDevice(21) as v:\n",
    "    for i in range(10, 20, 1):\n",
    "        h.value = i/100.0\n",
    "        time.sleep(.5)\n",
    "    for i in range(1, 30, 2):\n",
    "        v.value = i / 100.0\n",
    "        time.sleep(.5)\n",
    "    for i in range(20, 10, -1):\n",
    "        h.value = i / 100.0\n",
    "        time.sleep(.5)\n",
    "    for i in range(30, 10, -2):\n",
    "        v.value = i / 100.0\n",
    "        time.sleep(.5)\n",
    "\n",
    "    h.value = .14\n",
    "    v.value = 0.18\n",
    "    time.sleep(1)"
   ]
  },
  {
   "cell_type": "markdown",
   "metadata": {},
   "source": [
    "## Photo (again)"
   ]
  },
  {
   "cell_type": "code",
   "execution_count": 0,
   "metadata": {
    "collapsed": false
   },
   "outputs": [],
   "source": [
    "from gpiozero import Button\n",
    "from gpiozero import PWMOutputDevice\n",
    "import picamera\n",
    "import time\n",
    "\n",
    "\n",
    "with picamera.PiCamera() as camera, Button(23) as white, Button(22) as blue, \\\n",
    "       PWMOutputDevice(20) as h, PWMOutputDevice(21) as v:\n",
    "    camera.hflip = True\n",
    "    camera.vflip = True\n",
    "    current = .18\n",
    "    h.value = .14\n",
    "    v.value = .18\n",
    "    while True:\n",
    "        if white.is_pressed and blue.is_pressed:\n",
    "            camera.start_preview()\n",
    "            time.sleep(2)\n",
    "            camera.capture('image.jpg')\n",
    "            camera.stop_preview() \n",
    "            h.value = .14\n",
    "            v.value = .18\n",
    "            time.sleep(1)\n",
    "            break\n",
    "        if white.is_pressed and not blue.is_pressed:\n",
    "            if current < 1:\n",
    "                current += .01\n",
    "        elif not white.is_pressed and blue.is_pressed:\n",
    "            if current > 0:\n",
    "                current -= .01\n",
    "        v.value = current\n",
    "        time.sleep(0.5)\n",
    "\n",
    "# preview\n",
    "from IPython.display import Image\n",
    "Image(filename='image.jpg')"
   ]
  },
  {
   "cell_type": "code",
   "execution_count": 0,
   "metadata": {
    "collapsed": true
   },
   "outputs": [],
   "source": []
  }
 ],
 "metadata": {
  "kernelspec": {
   "display_name": "Python 2",
   "language": "python",
   "name": "python2"
  },
  "language_info": {
   "codemirror_mode": {
    "name": "ipython",
    "version": 2
   },
   "file_extension": ".py",
   "mimetype": "text/x-python",
   "name": "python",
   "nbconvert_exporter": "python",
   "pygments_lexer": "ipython2",
   "version": "2.7.9"
  }
 },
 "nbformat": 4,
 "nbformat_minor": 0
}