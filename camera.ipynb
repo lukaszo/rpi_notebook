{
 "cells": [
  {
   "cell_type": "markdown",
   "metadata": {
    "collapsed": true
   },
   "source": [
    "# Raspberry Pi camera\n",
    "\n",
    "https://picamera.readthedocs.org/en/release-1.10/quickstart.html\n",
    "\n",
    "## Capture an image"
   ]
  },
  {
   "cell_type": "code",
   "execution_count": 0,
   "metadata": {
    "collapsed": false
   },
   "outputs": [],
   "source": [
    "import time\n",
    "import picamera\n",
    "\n",
    "with picamera.PiCamera() as camera:\n",
    "    camera.start_preview()\n",
    "    camera.hflip = True\n",
    "    camera.vflip = True\n",
    "    time.sleep(2)\n",
    "    camera.capture('image.jpg')\n",
    "    camera.stop_preview()\n",
    "    \n",
    "# preview\n",
    "from IPython.display import Image\n",
    "Image(filename='image.jpg') "
   ]
  },
  {
   "cell_type": "markdown",
   "metadata": {},
   "source": [
    "## Image in a dark"
   ]
  },
  {
   "cell_type": "markdown",
   "metadata": {},
   "source": [
    "## Record a video"
   ]
  },
  {
   "cell_type": "code",
   "execution_count": 0,
   "metadata": {
    "collapsed": false
   },
   "outputs": [],
   "source": [
    "import picamera\n",
    "from time import sleep\n",
    "from fractions import Fraction\n",
    "\n",
    "with picamera.PiCamera() as camera:\n",
    "    camera.hflip = True\n",
    "    camera.vflip = True\n",
    "    camera.resolution = (1280, 720)\n",
    "    # Set a framerate of 1/6fps, then set shutter\n",
    "    # speed to 6s and ISO to 800\n",
    "    camera.framerate = Fraction(1, 6)\n",
    "    camera.shutter_speed = 6000000\n",
    "    camera.exposure_mode = 'off'\n",
    "    camera.iso = 800\n",
    "    # Give the camera a good long time to measure AWB\n",
    "    # (you may wish to use fixed AWB instead)\n",
    "    sleep(10)\n",
    "    # Finally, capture an image with a 6s exposure. Due\n",
    "    # to mode switching on the still port, this will take\n",
    "    # longer than 6 seconds\n",
    "    camera.capture('dark.jpg')\n",
    "    \n",
    "from IPython.display import Image\n",
    "Image(filename='dark.jpg') "
   ]
  },
  {
   "cell_type": "markdown",
   "metadata": {},
   "source": [
    "```# install MP4Box program\n",
    "apt-get install gpac```"
   ]
  },
  {
   "cell_type": "code",
   "execution_count": 0,
   "metadata": {
    "collapsed": false
   },
   "outputs": [],
   "source": [
    "import os\n",
    "import picamera\n",
    "\n",
    "#cleanup\n",
    "try:\n",
    "    os.unlink('my_video.mp4')\n",
    "    os.unlink('my_video.h264')\n",
    "except: pass\n",
    "    \n",
    "with picamera.PiCamera() as camera:\n",
    "    camera.hflip = True\n",
    "    camera.vflip = True\n",
    "    camera.resolution = (640, 480)\n",
    "    camera.start_recording('my_video.h264')\n",
    "    camera.wait_recording(10)\n",
    "    camera.stop_recording()\n",
    "    \n",
    "from subprocess import check_call\n",
    "check_call(\"MP4Box -fps 30 -add my_video.h264 my_video.mp4\", shell=True)\n",
    "\n",
    "from IPython.display import HTML\n",
    "HTML(\"\"\"\n",
    "<video width=\"320\" height=\"240\" controls>\n",
    "  <source src=\"files/my_video.mp4\" type=\"video/mp4\">\n",
    "</video>\n",
    "\"\"\")"
   ]
  },
  {
   "cell_type": "markdown",
   "metadata": {},
   "source": [
    "## Hihg speed video"
   ]
  },
  {
   "cell_type": "code",
   "execution_count": 0,
   "metadata": {
    "collapsed": false
   },
   "outputs": [],
   "source": [
    "# doesnt work yet\n",
    "import os\n",
    "import picamera\n",
    "\n",
    "try:\n",
    "    os.unlink('my_video.mp4')\n",
    "    os.unlink('my_video.h264')\n",
    "except: pass\n",
    "\n",
    "with picamera.PiCamera() as camera:\n",
    "    camera.hflip = True\n",
    "    camera.vflip = True\n",
    "    camera.resolution = (640, 480)\n",
    "    camera.framerate = 90\n",
    "    camera.start_recording('my_video.h264')\n",
    "    camera.wait_recording(10)\n",
    "    camera.stop_recording()\n",
    "    \n",
    "from subprocess import check_call\n",
    "check_call(\"MP4Box -fps 30 -add my_video.h264 my_video.mp4\", shell=True)\n",
    "\n",
    "from IPython.display import HTML\n",
    "HTML(\"\"\"\n",
    "<video width=\"320\" height=\"240\" controls>\n",
    "  <source src=\"files/my_video.mp4\" type=\"video/mp4\">\n",
    "</video>\n",
    "\"\"\")"
   ]
  },
  {
   "cell_type": "markdown",
   "metadata": {},
   "source": [
    "## Timelapse video\n",
    "\n",
    "```sudo apt-get -y install libav-tools```"
   ]
  },
  {
   "cell_type": "code",
   "execution_count": 0,
   "metadata": {
    "collapsed": false
   },
   "outputs": [],
   "source": [
    "from subprocess import check_call\n",
    "check_call(\"rm -rf output/*\", shell=True)\n",
    "\n",
    "import time\n",
    "import picamera\n",
    "with picamera.PiCamera() as camera:\n",
    "    camera.resolution = (1240, 1024)\n",
    "    camera.start_preview()\n",
    "    try:\n",
    "        for i, filename in enumerate(camera.capture_continuous('output/image{counter:02d}.jpg')):\n",
    "            time.sleep(1)\n",
    "            if i == 10:\n",
    "                break\n",
    "    finally:\n",
    "        camera.stop_preview()\n",
    " \n",
    "\n",
    "check_call(\"avconv -r 1 -i output/image%02d.jpg -r 10 -vcodec libx264 -crf 10 -g 15 output/tl.mp4\", shell=True)"
   ]
  },
  {
   "cell_type": "markdown",
   "metadata": {
    "collapsed": true
   },
   "source": [
    "http://192.168.1.111:8888/files/output/tl.mp4"
   ]
  },
  {
   "cell_type": "code",
   "execution_count": 0,
   "metadata": {
    "collapsed": true
   },
   "outputs": [],
   "source": []
  }
 ],
 "metadata": {
  "celltoolbar": "Edit Metadata",
  "kernelspec": {
   "display_name": "Python 2",
   "language": "python",
   "name": "python2"
  },
  "language_info": {
   "codemirror_mode": {
    "name": "ipython",
    "version": 2
   },
   "file_extension": ".py",
   "mimetype": "text/x-python",
   "name": "python",
   "nbconvert_exporter": "python",
   "pygments_lexer": "ipython2",
   "version": "2.7.9"
  }
 },
 "nbformat": 4,
 "nbformat_minor": 0
}