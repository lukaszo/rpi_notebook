{
 "cells": [
  {
   "cell_type": "markdown",
   "metadata": {
    "collapsed": true
   },
   "source": [
    "# Raspberry Pi camera"
   ]
  },
  {
   "cell_type": "markdown",
   "metadata": {},
   "source": [
    "## Capture an image"
   ]
  },
  {
   "cell_type": "code",
   "execution_count": 0,
   "metadata": {
    "collapsed": false
   },
   "outputs": [],
   "source": [
    "# capture images\n",
    "import time\n",
    "import picamera\n",
    "\n",
    "with picamera.PiCamera() as camera:\n",
    "    camera.start_preview()\n",
    "    time.sleep(2)\n",
    "    camera.capture('foo.jpg')\n",
    "    camera.stop_preview()\n",
    "    \n",
    "# preview\n",
    "from IPython.display import Image\n",
    "Image(filename='foo.jpg') "
   ]
  },
  {
   "cell_type": "markdown",
   "metadata": {},
   "source": [
    "## Image in a dark"
   ]
  },
  {
   "cell_type": "code",
   "execution_count": 0,
   "metadata": {
    "collapsed": true
   },
   "outputs": [],
   "source": [
    "# image in dark\n",
    "import picamera\n",
    "from time import sleep\n",
    "from fractions import Fraction\n",
    "\n",
    "with picamera.PiCamera() as camera:\n",
    "    camera.resolution = (1280, 720)\n",
    "    # Set a framerate of 1/6fps, then set shutter\n",
    "    # speed to 6s and ISO to 800\n",
    "    camera.framerate = Fraction(1, 6)\n",
    "    camera.shutter_speed = 6000000\n",
    "    camera.exposure_mode = 'off'\n",
    "    camera.iso = 800\n",
    "    # Give the camera a good long time to measure AWB\n",
    "    # (you may wish to use fixed AWB instead)\n",
    "    sleep(10)\n",
    "    # Finally, capture an image with a 6s exposure. Due\n",
    "    # to mode switching on the still port, this will take\n",
    "    # longer than 6 seconds\n",
    "    camera.capture('dark.jpg')\n",
    "    \n",
    "from IPython.display import Image\n",
    "Image(filename='dark.jpg') "
   ]
  },
  {
   "cell_type": "markdown",
   "metadata": {},
   "source": [
    "## Record a video"
   ]
  },
  {
   "cell_type": "markdown",
   "metadata": {},
   "source": [
    "```# install MP4Box program\n",
    "apt-get install gpac```"
   ]
  },
  {
   "cell_type": "code",
   "execution_count": 0,
   "metadata": {
    "collapsed": false,
    "scrolled": true
   },
   "outputs": [],
   "source": [
    "import os\n",
    "import picamera\n",
    "\n",
    "os.unlink('my_video.mp4')\n",
    "os.unlink('my_video.h264')\n",
    "\n",
    "with picamera.PiCamera() as camera:\n",
    "    camera.resolution = (640, 480)\n",
    "    camera.start_recording('my_video.h264')\n",
    "    camera.wait_recording(20)\n",
    "    camera.stop_recording()\n",
    "    \n",
    "from subprocess import check_call\n",
    "check_call(\"MP4Box -fps 30 -add my_video.h264 my_video.mp4\", shell=True)\n",
    "\n",
    "from IPython.display import HTML\n",
    "HTML(\"\"\"\n",
    "<video width=\"320\" height=\"240\" controls>\n",
    "  <source src=\"files/my_video.mp4\" type=\"video/mp4\">\n",
    "</video>\n",
    "\"\"\")"
   ]
  },
  {
   "cell_type": "markdown",
   "metadata": {},
   "source": [
    "## Hihg speed video"
   ]
  },
  {
   "cell_type": "code",
   "execution_count": 0,
   "metadata": {
    "collapsed": false
   },
   "outputs": [],
   "source": [
    "import os\n",
    "import picamera\n",
    "\n",
    "os.unlink('my_video.mp4')\n",
    "os.unlink('my_video.h264')\n",
    "\n",
    "with picamera.PiCamera() as camera:\n",
    "    camera.resolution = (640, 480)\n",
    "    camera.fps = 90\n",
    "    camera.start_recording('my_video.h264')\n",
    "    camera.wait_recording(20)\n",
    "    camera.stop_recording()\n",
    "    \n",
    "from subprocess import check_call\n",
    "check_call(\"MP4Box -fps 30 -add my_video.h264 my_video.mp4\", shell=True)\n",
    "\n",
    "from IPython.display import HTML\n",
    "HTML(\"\"\"\n",
    "<video width=\"320\" height=\"240\" controls>\n",
    "  <source src=\"files/my_video.mp4\" type=\"video/mp4\">\n",
    "</video>\n",
    "\"\"\")"
   ]
  },
  {
   "cell_type": "code",
   "execution_count": 0,
   "metadata": {
    "collapsed": true
   },
   "outputs": [],
   "source": []
  }
 ],
 "metadata": {
  "celltoolbar": "Edit Metadata",
  "kernelspec": {
   "display_name": "Python 2",
   "language": "python",
   "name": "python2"
  },
  "language_info": {
   "codemirror_mode": {
    "name": "ipython",
    "version": 2
   },
   "file_extension": ".py",
   "mimetype": "text/x-python",
   "name": "python",
   "nbconvert_exporter": "python",
   "pygments_lexer": "ipython2",
   "version": "2.7.9"
  }
 },
 "nbformat": 4,
 "nbformat_minor": 0
}