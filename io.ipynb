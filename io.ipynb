{
 "cells": [
  {
   "cell_type": "markdown",
   "metadata": {
    "collapsed": true
   },
   "source": [
    "# Input/Output\n",
    "## Road Lights"
   ]
  },
  {
   "cell_type": "code",
   "execution_count": 0,
   "metadata": {
    "collapsed": false,
    "scrolled": true
   },
   "outputs": [],
   "source": [
    "from gpiozero import LED\n",
    "from time import sleep\n",
    "\n",
    "with LED(14) as red, LED(15) as green, LED(18) as yellow:\n",
    "    while True:\n",
    "        green.off()\n",
    "        yellow.off()\n",
    "        red.on()\n",
    "        sleep(1)\n",
    "        yellow.on()\n",
    "        sleep(1)\n",
    "        red.off()\n",
    "        yellow.off()\n",
    "        green.on()\n",
    "        sleep(1)\n",
    "        yellow.on()\n",
    "        sleep(1)"
   ]
  },
  {
   "cell_type": "markdown",
   "metadata": {},
   "source": [
    "## Blink"
   ]
  },
  {
   "cell_type": "code",
   "execution_count": 0,
   "metadata": {
    "collapsed": false
   },
   "outputs": [],
   "source": [
    "from gpiozero import LED\n",
    "from time import sleep\n",
    "from signal import pause\n",
    "\n",
    "with LED(14) as red, LED(15) as green, LED(18) as yellow:\n",
    "    red.blink()\n",
    "    green.blink(on_time=0.5, off_time=0.4)\n",
    "    yellow.blink(on_time=0.2, off_time=2)\n",
    "    pause()"
   ]
  },
  {
   "cell_type": "markdown",
   "metadata": {},
   "source": [
    "## Blink 2 (pwm)"
   ]
  },
  {
   "cell_type": "code",
   "execution_count": 0,
   "metadata": {
    "collapsed": false
   },
   "outputs": [],
   "source": [
    "from gpiozero import PWMLED\n",
    "from time import sleep\n",
    "from signal import pause\n",
    "\n",
    "with PWMLED(14) as red, PWMLED(15) as green, PWMLED(18) as yellow:\n",
    "    green.blink()\n",
    "    red.blink(fade_in_time=1, fade_out_time=1)\n",
    "    yellow.blink(fade_in_time=5, fade_out_time=5)\n",
    "    pause()"
   ]
  },
  {
   "cell_type": "markdown",
   "metadata": {},
   "source": [
    "## Button"
   ]
  },
  {
   "cell_type": "code",
   "execution_count": 0,
   "metadata": {
    "collapsed": false
   },
   "outputs": [],
   "source": [
    "from gpiozero import Button\n",
    "import sys\n",
    "\n",
    "with Button(23) as button1, Button(22) as button2:\n",
    "    button1.wait_for_press()\n",
    "    print(\"The button1 was pressed!\")\n",
    "    sys.stdout.flush()\n",
    "    button2.wait_for_press()\n",
    "    print(\"The button2 was pressed!\")"
   ]
  },
  {
   "cell_type": "markdown",
   "metadata": {},
   "source": [
    "## Button LED"
   ]
  },
  {
   "cell_type": "code",
   "execution_count": 0,
   "metadata": {
    "collapsed": false
   },
   "outputs": [],
   "source": [
    "from gpiozero import Button\n",
    "from gpiozero import LED\n",
    "from signal import pause\n",
    "\n",
    "with LED(14) as red, Button(23) as button:\n",
    "    button.when_pressed = red.on\n",
    "    button.when_released = red.off\n",
    "\n",
    "    pause()"
   ]
  },
  {
   "cell_type": "markdown",
   "metadata": {},
   "source": [
    "## Game"
   ]
  },
  {
   "cell_type": "code",
   "execution_count": 0,
   "metadata": {
    "collapsed": false
   },
   "outputs": [],
   "source": [
    "from gpiozero import Button\n",
    "from gpiozero import LED\n",
    "from time import sleep\n",
    "import random\n",
    "\n",
    "p1_score = 0\n",
    "p2_score = 0\n",
    "    \n",
    "with LED(14) as led, Button(23) as p1, Button(22) as p2:\n",
    "    round = 0\n",
    "    while round < 10:\n",
    "        time = random.uniform(1, 5)\n",
    "        sleep(time)\n",
    "        led.on()\n",
    "        if p1.is_pressed:\n",
    "            p1_score +=1\n",
    "        elif p2.is_pressed:\n",
    "            p2_score += 1    \n",
    "        sleep(1)\n",
    "        led.off()\n",
    "        round += 1\n",
    "        \n",
    "print \"Player 1:\", p1_score\n",
    "print \"Player 2:\", p2_score"
   ]
  },
  {
   "cell_type": "markdown",
   "metadata": {},
   "source": [
    "## Photo"
   ]
  },
  {
   "cell_type": "code",
   "execution_count": 0,
   "metadata": {
    "collapsed": false
   },
   "outputs": [],
   "source": [
    "from gpiozero import Button\n",
    "import picamera\n",
    "import time\n",
    "\n",
    "\n",
    "with picamera.PiCamera() as camera, Button(23) as trigger:\n",
    "    camera.hflip = True\n",
    "    camera.vflip = True\n",
    "    camera.start_preview()\n",
    "    time.sleep(2)\n",
    "    trigger.wait_for_press()\n",
    "    camera.capture('image.jpg')\n",
    "    camera.stop_preview()\n",
    "\n",
    "# preview\n",
    "from IPython.display import Image\n",
    "Image(filename='image.jpg')\n"
   ]
  },
  {
   "cell_type": "code",
   "execution_count": 0,
   "metadata": {
    "collapsed": true
   },
   "outputs": [],
   "source": []
  }
 ],
 "metadata": {
  "kernelspec": {
   "display_name": "Python 2",
   "language": "python",
   "name": "python2"
  },
  "language_info": {
   "codemirror_mode": {
    "name": "ipython",
    "version": 2
   },
   "file_extension": ".py",
   "mimetype": "text/x-python",
   "name": "python",
   "nbconvert_exporter": "python",
   "pygments_lexer": "ipython2",
   "version": "2.7.9"
  }
 },
 "nbformat": 4,
 "nbformat_minor": 0
}